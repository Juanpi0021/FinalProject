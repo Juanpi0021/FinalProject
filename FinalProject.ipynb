{
 "cells": [
  {
   "cell_type": "markdown",
   "metadata": {},
   "source": [
    "## Modules"
   ]
  },
  {
   "cell_type": "code",
   "execution_count": 56,
   "metadata": {},
   "outputs": [],
   "source": [
    "import pandas as pd\n",
    "import ipywidgets as widgets\n",
    "import matplotlib.pyplot as plt\n",
    "import plotly.express as px\n",
    "from IPython.display import display, clear_output\n",
    "import seaborn as sns"
   ]
  },
  {
   "cell_type": "markdown",
   "metadata": {},
   "source": [
    "## Read CSV"
   ]
  },
  {
   "cell_type": "code",
   "execution_count": 57,
   "metadata": {},
   "outputs": [
    {
     "name": "stderr",
     "output_type": "stream",
     "text": [
      "C:\\Users\\juanp\\AppData\\Local\\Temp\\ipykernel_7376\\171959991.py:3: DtypeWarning:\n",
      "\n",
      "Columns (22) have mixed types. Specify dtype option on import or set low_memory=False.\n",
      "\n"
     ]
    }
   ],
   "source": [
    "\n",
    "csv_file = 'Accidentes.csv'  # Change this path to the actual location of your file\n",
    "df = pd.read_csv(csv_file, encoding='ISO-8859-1')  # Or use encoding='latin1'"
   ]
  },
  {
   "cell_type": "markdown",
   "metadata": {},
   "source": [
    "## Widgets"
   ]
  },
  {
   "cell_type": "code",
   "execution_count": 58,
   "metadata": {},
   "outputs": [],
   "source": [
    "\n",
    "alcaldia_selector = widgets.Dropdown(options=sorted(df['alcaldia'].unique()), description='Alcaldía:')\n",
    "\n",
    "# Add the \"All\" option in the event type\n",
    "event_types = ['All'] + sorted(df['tipo_evento'].unique())\n",
    "event_type_selector = widgets.Dropdown(options=event_types, description='Event Type:')\n",
    "\n",
    "# List of valid days\n",
    "valid_days = ['Lunes', 'Martes', 'Miércoles', 'Jueves', 'Viernes', 'Sábado', 'Domingo']\n",
    "\n",
    "df['dia'] = df['dia'].apply(lambda x: x.strip() if isinstance(x, str) else x) \n",
    "df = df[df['dia'].isin(valid_days)] \n",
    "day_selector = widgets.Dropdown(options=sorted(df['dia'].unique()), description='Day:')\n",
    "\n",
    "# Widget to select the metric\n",
    "metrics = ['Total number of accidents', 'Accidents with injuries rate', 'Accidents with fatalities rate', 'Average number of injured and deceased']\n",
    "metric_selector = widgets.Dropdown(options=metrics, description='Metric:')"
   ]
  },
  {
   "cell_type": "markdown",
   "metadata": {},
   "source": [
    "## Functions to plot"
   ]
  },
  {
   "cell_type": "code",
   "execution_count": 59,
   "metadata": {},
   "outputs": [],
   "source": [
    "\n",
    "def plot_accidents_by_type(filtered_df):\n",
    "    if filtered_df.empty:\n",
    "        print(\"No data available to display the accidents by event type chart.\")\n",
    "        return\n",
    "    \n",
    "    plt.figure(figsize=(10, 6))\n",
    "    filtered_df['tipo_evento'].value_counts().plot(kind='bar', color='skyblue')\n",
    "    \n",
    "    plt.title('Number of Accidents by Event Type')\n",
    "    plt.ylabel('Number of Accidents')\n",
    "    plt.xlabel('Event Type')\n",
    "    plt.show()\n",
    "\n",
    "def plot_map(filtered_df):\n",
    "    if filtered_df.empty:\n",
    "        print(\"No data available to display the map.\")\n",
    "        return\n",
    "    \n",
    "    fig = px.scatter_mapbox(filtered_df, lat='latitud', lon='longitud', \n",
    "                            color='tipo_evento', size='personas_lesionadas',\n",
    "                            hover_name='alcaldia', hover_data=['colonia', 'tipo_evento'],\n",
    "                            zoom=10, height=500)\n",
    "    \n",
    "    fig.update_layout(mapbox_style=\"open-street-map\")\n",
    "    fig.update_layout(title=\"Accidents Map\", title_x=0.5)\n",
    "    \n",
    "    fig.show()\n",
    "\n",
    "def plot_accidents_with_injuries_fatalities(filtered_df):\n",
    "    if filtered_df.empty:\n",
    "        print(\"No data available to display the accidents with injuries and fatalities chart.\")\n",
    "        return\n",
    "    \n",
    "    plt.figure(figsize=(10, 6))\n",
    "    filtered_df[['personas_lesionadas', 'personas_fallecidas']].sum().plot(kind='bar', color=['orange', 'red'])\n",
    "    \n",
    "    plt.title('Accidents with Injuries and Fatalities')\n",
    "    plt.ylabel('Number')\n",
    "    plt.xticks([0, 1], ['Injured', 'Deceased'], rotation=0)\n",
    "    plt.show()\n",
    "\n",
    "\n",
    "def plot_accidents_by_day(filtered_df):\n",
    "    if filtered_df.empty:\n",
    "        print(\"No data available to display the accidents by day chart.\")\n",
    "        return\n",
    "    \n",
    "    plt.figure(figsize=(10, 6))\n",
    "    filtered_df['dia'].value_counts().reindex(valid_days).plot(kind='bar', color='purple')\n",
    "    \n",
    "    plt.title('Total Number of Accidents by Day of the Week')\n",
    "    plt.ylabel('Number of Accidents')\n",
    "    plt.xlabel('Day of the Week')\n",
    "    plt.xticks(rotation=45)\n",
    "    plt.show()\n",
    "\n"
   ]
  },
  {
   "cell_type": "markdown",
   "metadata": {},
   "source": [
    "## Calculate Metrics "
   ]
  },
  {
   "cell_type": "code",
   "execution_count": 60,
   "metadata": {},
   "outputs": [],
   "source": [
    "\n",
    "# Function to calculate the total number of accidents\n",
    "def calculate_total_accidents(filtered_df):\n",
    "    return len(filtered_df)\n",
    "\n",
    "# Function to calculate the rate of accidents with injuries\n",
    "def calculate_injury_rate(filtered_df):\n",
    "    return (filtered_df['personas_lesionadas'] > 0).mean() * 100\n",
    "\n",
    "# Function to calculate the rate of accidents with fatalities\n",
    "def calculate_fatality_rate(filtered_df):\n",
    "    return (filtered_df['personas_fallecidas'] > 0).mean() * 100\n",
    "\n",
    "# Function to calculate the average number of injured and deceased per accident\n",
    "def calculate_avg_injured_fatalities(filtered_df):\n",
    "    avg_injured = filtered_df['personas_lesionadas'].mean()\n",
    "    avg_deceased = filtered_df['personas_fallecidas'].mean()\n",
    "    return avg_injured, avg_deceased"
   ]
  },
  {
   "cell_type": "markdown",
   "metadata": {},
   "source": [
    "## Update Metrics and charts"
   ]
  },
  {
   "cell_type": "code",
   "execution_count": null,
   "metadata": {},
   "outputs": [],
   "source": [
    "\n",
    "def update_metric(filtered_df, metric):\n",
    "    if filtered_df.empty:\n",
    "        print(\"No data available to display the selected metric.\")\n",
    "        return\n",
    "    \n",
    "    if metric == 'Total number of accidents':\n",
    "        total_accidents = calculate_total_accidents(filtered_df)\n",
    "        print(f'Total number of accidents: {total_accidents}')\n",
    "    \n",
    "    elif metric == 'Accidents with injuries rate':\n",
    "        injury_rate = calculate_injury_rate(filtered_df)\n",
    "        print(f'Accidents with injuries rate: {injury_rate:.2f}%')\n",
    "    \n",
    "    elif metric == 'Accidents with fatalities rate':\n",
    "        fatality_rate = calculate_fatality_rate(filtered_df)\n",
    "        print(f'Accidents with fatalities rate: {fatality_rate:.2f}%')\n",
    "    \n",
    "    elif metric == 'Average number of injured and deceased':\n",
    "        avg_injured, avg_deceased = calculate_avg_injured_fatalities(filtered_df)\n",
    "        print(f'Average number of injured per accident: {avg_injured:.2f}')\n",
    "        print(f'Average number of deceased per accident: {avg_deceased:.2f}')\n",
    "\n",
    "\n",
    "def update_charts(change):\n",
    "    # Apply filters\n",
    "    filtered_df = filter_data()\n",
    "    \n",
    "    # Clear the previous output\n",
    "    clear_output(wait=True)\n",
    "    \n",
    "    # Display the widgets and updated charts again\n",
    "    display(alcaldia_selector, event_type_selector, day_selector, metric_selector)\n",
    "    \n",
    "    # Show updated charts\n",
    "    plot_accidents_by_day(filtered_df)  # Chart of accidents by day of the week\n",
    "    plot_accidents_by_type(filtered_df)  # Bar chart by event type\n",
    "    plot_map(filtered_df)                # Interactive map\n",
    "    plot_accidents_with_injuries_fatalities(filtered_df)  # Chart of injured and deceased\n",
    "    \n",
    "    # Update the metric panel\n",
    "    update_metric(filtered_df, metric_selector.value)\n"
   ]
  }
 ],
 "metadata": {
  "kernelspec": {
   "display_name": "Python 3",
   "language": "python",
   "name": "python3"
  },
  "language_info": {
   "codemirror_mode": {
    "name": "ipython",
    "version": 3
   },
   "file_extension": ".py",
   "mimetype": "text/x-python",
   "name": "python",
   "nbconvert_exporter": "python",
   "pygments_lexer": "ipython3",
   "version": "3.12.2"
  }
 },
 "nbformat": 4,
 "nbformat_minor": 2
}
