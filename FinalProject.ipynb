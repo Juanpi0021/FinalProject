{
 "cells": [
  {
   "cell_type": "markdown",
   "metadata": {},
   "source": [
    "## Modules"
   ]
  },
  {
   "cell_type": "code",
   "execution_count": 251,
   "metadata": {},
   "outputs": [],
   "source": [
    "import pandas as pd\n",
    "import ipywidgets as widgets\n",
    "import matplotlib.pyplot as plt\n",
    "import plotly.express as px\n",
    "from IPython.display import display, clear_output\n",
    "import seaborn as sns"
   ]
  },
  {
   "cell_type": "markdown",
   "metadata": {},
   "source": [
    "## Read CSV"
   ]
  },
  {
   "cell_type": "code",
   "execution_count": 252,
   "metadata": {},
   "outputs": [],
   "source": [
    "\n",
    "csv_file = 'Accidentes.csv'  # Change this path to the actual location of your file\n",
    "df = pd.read_csv(csv_file, encoding='ISO-8859-1', low_memory=False)"
   ]
  },
  {
   "cell_type": "markdown",
   "metadata": {},
   "source": [
    "## Widgets"
   ]
  },
  {
   "cell_type": "code",
   "execution_count": 253,
   "metadata": {},
   "outputs": [],
   "source": [
    "# List of valid days\n",
    "valid_days = ['Lunes', 'Martes', 'Miércoles', 'Jueves', 'Viernes', 'Sábado', 'Domingo']\n",
    "\n",
    "# Clean the 'dia' column and filter valid days\n",
    "df['dia'] = df['dia'].apply(lambda x: x.strip() if isinstance(x, str) else x) \n",
    "df = df[df['dia'].isin(valid_days)] \n",
    "\n",
    "alcaldia_selector = widgets.Dropdown(description='Alcaldía:')\n",
    "event_type_selector = widgets.Dropdown(description='Event Type:')\n",
    "day_selector = widgets.Dropdown(description='Day:')\n",
    "metric_selector = widgets.Dropdown(description='Metric:')\n"
   ]
  },
  {
   "cell_type": "markdown",
   "metadata": {},
   "source": [
    "## Functions to plot"
   ]
  },
  {
   "cell_type": "code",
   "execution_count": 254,
   "metadata": {},
   "outputs": [],
   "source": [
    "def filter_data():\n",
    "    alcaldia = alcaldia_selector.value\n",
    "    event_type = event_type_selector.value\n",
    "    day = day_selector.value\n",
    "\n",
    "    # Filter the dataframe based on selected values\n",
    "    filtered_df = df[(df['alcaldia'] == alcaldia) & (df['dia'] == day)]\n",
    "    \n",
    "    # Apply the event type filter only if it's not 'All'\n",
    "    if event_type != 'All':\n",
    "        filtered_df = filtered_df[filtered_df['tipo_evento'] == event_type]\n",
    "    \n",
    "    return filtered_df\n",
    "\n",
    "# Plot accidents by event type\n",
    "def plot_accidents_by_type(filtered_df):\n",
    "    if filtered_df.empty:\n",
    "        print(\"No data available to display the accidents by event type chart.\")\n",
    "        return\n",
    "    \n",
    "    plt.figure(figsize=(10, 6))\n",
    "    filtered_df['tipo_evento'].value_counts().plot(kind='bar', color='skyblue')\n",
    "    \n",
    "    plt.title('Number of Accidents by Event Type')\n",
    "    plt.ylabel('Number of Accidents')\n",
    "    plt.xlabel('Event Type')\n",
    "    plt.show()\n",
    "\n",
    "# Plot accidents on a map\n",
    "def plot_map(filtered_df):\n",
    "    if filtered_df.empty:\n",
    "        print(\"No data available to display the map.\")\n",
    "        return\n",
    "    \n",
    "    fig = px.scatter_mapbox(filtered_df, lat='latitud', lon='longitud', \n",
    "                            color='tipo_evento', size='personas_lesionadas',\n",
    "                            hover_name='alcaldia', hover_data=['colonia', 'tipo_evento'],\n",
    "                            zoom=10, height=500)\n",
    "    \n",
    "    fig.update_layout(mapbox_style=\"open-street-map\")\n",
    "    fig.update_layout(title=\"Accidents Map\", title_x=0.5)\n",
    "    \n",
    "    fig.show()\n",
    "\n",
    "# Plot accidents with injuries and fatalities\n",
    "def plot_accidents_with_injuries_fatalities(filtered_df):\n",
    "    if filtered_df.empty:\n",
    "        print(\"No data available to display the accidents with injuries and fatalities chart.\")\n",
    "        return\n",
    "    \n",
    "    plt.figure(figsize=(10, 6))\n",
    "    filtered_df[['personas_lesionadas', 'personas_fallecidas']].sum().plot(kind='bar', color=['orange', 'red'])\n",
    "    \n",
    "    plt.title('Accidents with Injuries and Fatalities')\n",
    "    plt.ylabel('Number')\n",
    "    plt.xticks([0, 1], ['Injured', 'Deceased'], rotation=0)\n",
    "    plt.show()\n",
    "\n",
    "# Plot accidents by day of the week\n",
    "def plot_accidents_by_day(filtered_df):\n",
    "    if filtered_df.empty:\n",
    "        print(\"No data available to display the accidents by day chart.\")\n",
    "        return\n",
    "    \n",
    "    plt.figure(figsize=(10, 6))\n",
    "    filtered_df['dia'].value_counts().reindex(valid_days).plot(kind='bar', color='purple')\n",
    "    \n",
    "    plt.title('Total Number of Accidents by Day of the Week')\n",
    "    plt.ylabel('Number of Accidents')\n",
    "    plt.xlabel('Day of the Week')\n",
    "    plt.xticks(rotation=45)\n",
    "    plt.show()"
   ]
  },
  {
   "cell_type": "markdown",
   "metadata": {},
   "source": [
    "## Calculate Metrics "
   ]
  },
  {
   "cell_type": "code",
   "execution_count": 255,
   "metadata": {},
   "outputs": [],
   "source": [
    "def calculate_total_accidents(filtered_df):\n",
    "    return len(filtered_df)\n",
    "\n",
    "def calculate_injury_rate(filtered_df):\n",
    "    return (filtered_df['personas_lesionadas'] > 0).mean() * 100\n",
    "\n",
    "def calculate_fatality_rate(filtered_df):\n",
    "    return (filtered_df['personas_fallecidas'] > 0).mean() * 100\n",
    "\n",
    "def calculate_avg_injured_fatalities(filtered_df):\n",
    "    avg_injured = filtered_df['personas_lesionadas'].mean()\n",
    "    avg_deceased = filtered_df['personas_fallecidas'].mean()\n",
    "    return avg_injured, avg_deceased"
   ]
  },
  {
   "cell_type": "markdown",
   "metadata": {},
   "source": [
    "## Update Metrics and charts"
   ]
  },
  {
   "cell_type": "code",
   "execution_count": 256,
   "metadata": {},
   "outputs": [],
   "source": [
    "def update_metric(filtered_df, metric):\n",
    "    if filtered_df.empty:\n",
    "        print(\"No data available to display the selected metric.\")\n",
    "        return\n",
    "    \n",
    "    if metric == 'Total number of accidents':\n",
    "        total_accidents = calculate_total_accidents(filtered_df)\n",
    "        print(f'Total number of accidents: {total_accidents}')\n",
    "    \n",
    "    elif metric == 'Accidents with injuries rate':\n",
    "        injury_rate = calculate_injury_rate(filtered_df)\n",
    "        print(f'Accidents with injuries rate: {injury_rate:.2f}%')\n",
    "    \n",
    "    elif metric == 'Accidents with fatalities rate':\n",
    "        fatality_rate = calculate_fatality_rate(filtered_df)\n",
    "        print(f'Accidents with fatalities rate: {fatality_rate:.2f}%')\n",
    "    \n",
    "    elif metric == 'Average number of injured and deceased':\n",
    "        avg_injured, avg_deceased = calculate_avg_injured_fatalities(filtered_df)\n",
    "        print(f'Average number of injured per accident: {avg_injured:.2f}')\n",
    "        print(f'Average number of deceased per accident: {avg_deceased:.2f}')\n",
    "\n",
    "def update_charts(change):\n",
    "    # Apply filters\n",
    "    filtered_df = filter_data()\n",
    "    \n",
    "    # Debugging: print filtered DataFrame size to ensure correct filtering\n",
    "    print(f\"Filtered DataFrame has {len(filtered_df)} rows.\")\n",
    "    \n",
    "    # Clear the previous output\n",
    "    clear_output(wait=True)\n",
    "    \n",
    "    # Display the widgets and updated charts again\n",
    "    display(alcaldia_selector, event_type_selector, day_selector, metric_selector)\n",
    "    \n",
    "    # Show updated charts\n",
    "    plot_accidents_by_day(filtered_df)  # Chart of accidents by day of the week\n",
    "    plot_accidents_by_type(filtered_df)  # Bar chart by event type\n",
    "    plot_map(filtered_df)                # Interactive map\n",
    "    plot_accidents_with_injuries_fatalities(filtered_df)  # Chart of injured and deceased\n",
    "    \n",
    "    # Update the metric panel\n",
    "    update_metric(filtered_df, metric_selector.value)\n"
   ]
  },
  {
   "cell_type": "markdown",
   "metadata": {},
   "source": [
    "## Conect Widgets"
   ]
  },
  {
   "cell_type": "code",
   "execution_count": 257,
   "metadata": {},
   "outputs": [
    {
     "data": {
      "application/vnd.jupyter.widget-view+json": {
       "model_id": "4e09d782d2784fe6b6e6ad6560951b91",
       "version_major": 2,
       "version_minor": 0
      },
      "text/plain": [
       "Dropdown(description='Alcaldía:', index=3, options=('ALVARO OBREGON', 'AV INSURGENTES', 'AZCAPOTZALCO', 'BENIT…"
      ]
     },
     "metadata": {},
     "output_type": "display_data"
    },
    {
     "data": {
      "application/vnd.jupyter.widget-view+json": {
       "model_id": "6e2cafbf05c841ca97dc80bc197617aa",
       "version_major": 2,
       "version_minor": 0
      },
      "text/plain": [
       "Dropdown(description='Event Type:', index=3, options=('All', 'ATROPELLADO', 'CAIDA DE CICLISTA', 'CAIDA DE PAS…"
      ]
     },
     "metadata": {},
     "output_type": "display_data"
    },
    {
     "data": {
      "application/vnd.jupyter.widget-view+json": {
       "model_id": "c7ae8eebe6cd4d039a677be1ad231fe0",
       "version_major": 2,
       "version_minor": 0
      },
      "text/plain": [
       "Dropdown(description='Day:', index=4, options=('Domingo', 'Jueves', 'Lunes', 'Martes', 'Miércoles', 'Sábado', …"
      ]
     },
     "metadata": {},
     "output_type": "display_data"
    },
    {
     "data": {
      "application/vnd.jupyter.widget-view+json": {
       "model_id": "f304700cd0184ecfb0baffb0a6be90e4",
       "version_major": 2,
       "version_minor": 0
      },
      "text/plain": [
       "Dropdown(description='Metric:', index=2, options=('Total number of accidents', 'Accidents with injuries rate',…"
      ]
     },
     "metadata": {},
     "output_type": "display_data"
    },
    {
     "data": {
      "image/png": "[encoded data removed]",
      "text/plain": [
       "<Figure size 1000x600 with 1 Axes>"
      ]
     },
     "metadata": {},
     "output_type": "display_data"
    },
    {
     "data": {
      "image/png": "[encoded data removed]",
      "text/plain": [
       "<Figure size 1000x600 with 1 Axes>"
      ]
     },
     "metadata": {},
     "output_type": "display_data"
    },
    {
     "data": {
      "application/vnd.plotly.v1+json": {
       "config": {
        "plotlyServerURL": "https://plot.ly"
       },
       "data": [
        {
         "customdata": [
          [
           "TLACOQUEMECATL",
           "CAIDA DE PASAJERO"
          ],
          [
           "NARVARTE PTE",
           "CAIDA DE PASAJERO"
          ],
          [
           "NARVARTE PTE",
           "CAIDA DE PASAJERO"
          ],
          [
           "STA CRUZ ATOYAC",
           "CAIDA DE PASAJERO"
          ],
          [
           "NIÃOS HEROES DE CHAPULTEPEC",
           "CAIDA DE PASAJERO"
          ],
          [
           "DEL VALLE CENTRO",
           "CAIDA DE PASAJERO"
          ],
          [
           "TLACOQUEMECATL DEL VALLE",
           "CAIDA DE PASAJERO"
          ],
          [
           "MODERNA",
           "CAIDA DE PASAJERO"
          ],
          [
           "NATIVITAS",
           "CAIDA DE PASAJERO"
          ],
          [
           "NARVARTE OTE",
           "CAIDA DE PASAJERO"
          ],
          [
           "NARVARTE OTE",
           "CAIDA DE PASAJERO"
          ],
          [
           "NARVARTE PTE",
           "CAIDA DE PASAJERO"
          ],
          [
           "U NARVARTE IMSS",
           "CAIDA DE PASAJERO"
          ],
          [
           "NARVARTE PTE",
           "CAIDA DE PASAJERO"
          ],
          [
           "ACTIPAN",
           "CAIDA DE PASAJERO"
          ]
         ],
         "hovertemplate": "<b>%{hovertext}</b><br><br>tipo_evento=%{customdata[1]}<br>personas_lesionadas=%{marker.size}<br>latitud=%{lat}<br>longitud=%{lon}<br>colonia=%{customdata[0]}<extra></extra>",
         "hovertext": [
          "BENITO JUAREZ",
          "BENITO JUAREZ",
          "BENITO JUAREZ",
          "BENITO JUAREZ",
          "BENITO JUAREZ",
          "BENITO JUAREZ",
          "BENITO JUAREZ",
          "BENITO JUAREZ",
          "BENITO JUAREZ",
          "BENITO JUAREZ",
          "BENITO JUAREZ",
          "BENITO JUAREZ",
          "BENITO JUAREZ",
          "BENITO JUAREZ",
          "BENITO JUAREZ"
         ],
         "lat": [
          19.379688,
          19.400165,
          19.401708,
          19.370624,
          19.38379,
          19.391916,
          19.372613,
          19.395345,
          19.379496,
          19.40198,
          19.401848,
          19.401858,
          19.39557,
          19.379342,
          19.368023
         ],
         "legendgroup": "CAIDA DE PASAJERO",
         "lon": [
          -99.177002,
          -99.150632,
          -99.155553,
          -99.164804,
          -99.1459,
          -99.162882,
          -99.174138,
          -99.137561,
          -99.140187,
          -99.150525,
          -99.153325,
          -99.155751,
          -99.14801,
          -99.159103,
          -99.180521
         ],
         "marker": {
          "color": "#636efa",
          "size": [
           1,
           1,
           1,
           2,
           1,
           1,
           1,
           1,
           3,
           1,
           1,
           1,
           1,
           1,
           1
          ],
          "sizemode": "area",
          "sizeref": 0.0075
         },
         "mode": "markers",
         "name": "CAIDA DE PASAJERO",
         "showlegend": true,
         "subplot": "mapbox",
         "type": "scattermapbox"
        }
       ],
       "layout": {
        "height": 500,
        "legend": {
         "itemsizing": "constant",
         "title": {
          "text": "tipo_evento"
         },
         "tracegroupgap": 0
        },
        "mapbox": {
         "center": {
          "lat": 19.3882644,
          "lon": -99.1570596
         },
         "domain": {
          "x": [
           0,
           1
          ],
          "y": [
           0,
           1
          ]
         },
         "style": "open-street-map",
         "zoom": 10
        },
        "margin": {
         "t": 60
        },
        "template": {
         "data": {
          "bar": [
           {
            "error_x": {
             "color": "#2a3f5f"
            },
            "error_y": {
             "color": "#2a3f5f"
            },
            "marker": {
             "line": {
              "color": "#E5ECF6",
              "width": 0.5
             },
             "pattern": {
              "fillmode": "overlay",
              "size": 10,
              "solidity": 0.2
             }
            },
            "type": "bar"
           }
          ],
          "barpolar": [
           {
            "marker": {
             "line": {
              "color": "#E5ECF6",
              "width": 0.5
             },
             "pattern": {
              "fillmode": "overlay",
              "size": 10,
              "solidity": 0.2
             }
            },
            "type": "barpolar"
           }
          ],
          "carpet": [
           {
            "aaxis": {
             "endlinecolor": "#2a3f5f",
             "gridcolor": "white",
             "linecolor": "white",
             "minorgridcolor": "white",
             "startlinecolor": "#2a3f5f"
            },
            "baxis": {
             "endlinecolor": "#2a3f5f",
             "gridcolor": "white",
             "linecolor": "white",
             "minorgridcolor": "white",
             "startlinecolor": "#2a3f5f"
            },
            "type": "carpet"
           }
          ],
          "choropleth": [
           {
            "colorbar": {
             "outlinewidth": 0,
             "ticks": ""
            },
            "type": "choropleth"
           }
          ],
          "contour": [
           {
            "colorbar": {
             "outlinewidth": 0,
             "ticks": ""
            },
            "colorscale": [
             [
              0,
              "#0d0887"
             ],
             [
              0.1111111111111111,
              "#46039f"
             ],
             [
              0.2222222222222222,
              "#7201a8"
             ],
             [
              0.3333333333333333,
              "#9c179e"
             ],
             [
              0.4444444444444444,
              "#bd3786"
             ],
             [
              0.5555555555555556,
              "#d8576b"
             ],
             [
              0.6666666666666666,
              "#ed7953"
             ],
             [
              0.7777777777777778,
              "#fb9f3a"
             ],
             [
              0.8888888888888888,
              "#fdca26"
             ],
             [
              1,
              "#f0f921"
             ]
            ],
            "type": "contour"
           }
          ],
          "contourcarpet": [
           {
            "colorbar": {
             "outlinewidth": 0,
             "ticks": ""
            },
            "type": "contourcarpet"
           }
          ],
          "heatmap": [
           {
            "colorbar": {
             "outlinewidth": 0,
             "ticks": ""
            },
            "colorscale": [
             [
              0,
              "#0d0887"
             ],
             [
              0.1111111111111111,
              "#46039f"
             ],
             [
              0.2222222222222222,
              "#7201a8"
             ],
             [
              0.3333333333333333,
              "#9c179e"
             ],
             [
              0.4444444444444444,
              "#bd3786"
             ],
             [
              0.5555555555555556,
              "#d8576b"
             ],
             [
              0.6666666666666666,
              "#ed7953"
             ],
             [
              0.7777777777777778,
              "#fb9f3a"
             ],
             [
              0.8888888888888888,
              "#fdca26"
             ],
             [
              1,
              "#f0f921"
             ]
            ],
            "type": "heatmap"
           }
          ],
          "heatmapgl": [
           {
            "colorbar": {
             "outlinewidth": 0,
             "ticks": ""
            },
            "colorscale": [
             [
              0,
              "#0d0887"
             ],
             [
              0.1111111111111111,
              "#46039f"
             ],
             [
              0.2222222222222222,
              "#7201a8"
             ],
             [
              0.3333333333333333,
              "#9c179e"
             ],
             [
              0.4444444444444444,
              "#bd3786"
             ],
             [
              0.5555555555555556,
              "#d8576b"
             ],
             [
              0.6666666666666666,
              "#ed7953"
             ],
             [
              0.7777777777777778,
              "#fb9f3a"
             ],
             [
              0.8888888888888888,
              "#fdca26"
             ],
             [
              1,
              "#f0f921"
             ]
            ],
            "type": "heatmapgl"
           }
          ],
          "histogram": [
           {
            "marker": {
             "pattern": {
              "fillmode": "overlay",
              "size": 10,
              "solidity": 0.2
             }
            },
            "type": "histogram"
           }
          ],
          "histogram2d": [
           {
            "colorbar": {
             "outlinewidth": 0,
             "ticks": ""
            },
            "colorscale": [
             [
              0,
              "#0d0887"
             ],
             [
              0.1111111111111111,
              "#46039f"
             ],
             [
              0.2222222222222222,
              "#7201a8"
             ],
             [
              0.3333333333333333,
              "#9c179e"
             ],
             [
              0.4444444444444444,
              "#bd3786"
             ],
             [
              0.5555555555555556,
              "#d8576b"
             ],
             [
              0.6666666666666666,
              "#ed7953"
             ],
             [
              0.7777777777777778,
              "#fb9f3a"
             ],
             [
              0.8888888888888888,
              "#fdca26"
             ],
             [
              1,
              "#f0f921"
             ]
            ],
            "type": "histogram2d"
           }
          ],
          "histogram2dcontour": [
           {
            "colorbar": {
             "outlinewidth": 0,
             "ticks": ""
            },
            "colorscale": [
             [
              0,
              "#0d0887"
             ],
             [
              0.1111111111111111,
              "#46039f"
             ],
             [
              0.2222222222222222,
              "#7201a8"
             ],
             [
              0.3333333333333333,
              "#9c179e"
             ],
             [
              0.4444444444444444,
              "#bd3786"
             ],
             [
              0.5555555555555556,
              "#d8576b"
             ],
             [
              0.6666666666666666,
              "#ed7953"
             ],
             [
              0.7777777777777778,
              "#fb9f3a"
             ],
             [
              0.8888888888888888,
              "#fdca26"
             ],
             [
              1,
              "#f0f921"
             ]
            ],
            "type": "histogram2dcontour"
           }
          ],
          "mesh3d": [
           {
            "colorbar": {
             "outlinewidth": 0,
             "ticks": ""
            },
            "type": "mesh3d"
           }
          ],
          "parcoords": [
           {
            "line": {
             "colorbar": {
              "outlinewidth": 0,
              "ticks": ""
             }
            },
            "type": "parcoords"
           }
          ],
          "pie": [
           {
            "automargin": true,
            "type": "pie"
           }
          ],
          "scatter": [
           {
            "fillpattern": {
             "fillmode": "overlay",
             "size": 10,
             "solidity": 0.2
            },
            "type": "scatter"
           }
          ],
          "scatter3d": [
           {
            "line": {
             "colorbar": {
              "outlinewidth": 0,
              "ticks": ""
             }
            },
            "marker": {
             "colorbar": {
              "outlinewidth": 0,
              "ticks": ""
             }
            },
            "type": "scatter3d"
           }
          ],
          "scattercarpet": [
           {
            "marker": {
             "colorbar": {
              "outlinewidth": 0,
              "ticks": ""
             }
            },
            "type": "scattercarpet"
           }
          ],
          "scattergeo": [
           {
            "marker": {
             "colorbar": {
              "outlinewidth": 0,
              "ticks": ""
             }
            },
            "type": "scattergeo"
           }
          ],
          "scattergl": [
           {
            "marker": {
             "colorbar": {
              "outlinewidth": 0,
              "ticks": ""
             }
            },
            "type": "scattergl"
           }
          ],
          "scattermapbox": [
           {
            "marker": {
             "colorbar": {
              "outlinewidth": 0,
              "ticks": ""
             }
            },
            "type": "scattermapbox"
           }
          ],
          "scatterpolar": [
           {
            "marker": {
             "colorbar": {
              "outlinewidth": 0,
              "ticks": ""
             }
            },
            "type": "scatterpolar"
           }
          ],
          "scatterpolargl": [
           {
            "marker": {
             "colorbar": {
              "outlinewidth": 0,
              "ticks": ""
             }
            },
            "type": "scatterpolargl"
           }
          ],
          "scatterternary": [
           {
            "marker": {
             "colorbar": {
              "outlinewidth": 0,
              "ticks": ""
             }
            },
            "type": "scatterternary"
           }
          ],
          "surface": [
           {
            "colorbar": {
             "outlinewidth": 0,
             "ticks": ""
            },
            "colorscale": [
             [
              0,
              "#0d0887"
             ],
             [
              0.1111111111111111,
              "#46039f"
             ],
             [
              0.2222222222222222,
              "#7201a8"
             ],
             [
              0.3333333333333333,
              "#9c179e"
             ],
             [
              0.4444444444444444,
              "#bd3786"
             ],
             [
              0.5555555555555556,
              "#d8576b"
             ],
             [
              0.6666666666666666,
              "#ed7953"
             ],
             [
              0.7777777777777778,
              "#fb9f3a"
             ],
             [
              0.8888888888888888,
              "#fdca26"
             ],
             [
              1,
              "#f0f921"
             ]
            ],
            "type": "surface"
           }
          ],
          "table": [
           {
            "cells": {
             "fill": {
              "color": "#EBF0F8"
             },
             "line": {
              "color": "white"
             }
            },
            "header": {
             "fill": {
              "color": "#C8D4E3"
             },
             "line": {
              "color": "white"
             }
            },
            "type": "table"
           }
          ]
         },
         "layout": {
          "annotationdefaults": {
           "arrowcolor": "#2a3f5f",
           "arrowhead": 0,
           "arrowwidth": 1
          },
          "autotypenumbers": "strict",
          "coloraxis": {
           "colorbar": {
            "outlinewidth": 0,
            "ticks": ""
           }
          },
          "colorscale": {
           "diverging": [
            [
             0,
             "#8e0152"
            ],
            [
             0.1,
             "#c51b7d"
            ],
            [
             0.2,
             "#de77ae"
            ],
            [
             0.3,
             "#f1b6da"
            ],
            [
             0.4,
             "#fde0ef"
            ],
            [
             0.5,
             "#f7f7f7"
            ],
            [
             0.6,
             "#e6f5d0"
            ],
            [
             0.7,
             "#b8e186"
            ],
            [
             0.8,
             "#7fbc41"
            ],
            [
             0.9,
             "#4d9221"
            ],
            [
             1,
             "#276419"
            ]
           ],
           "sequential": [
            [
             0,
             "#0d0887"
            ],
            [
             0.1111111111111111,
             "#46039f"
            ],
            [
             0.2222222222222222,
             "#7201a8"
            ],
            [
             0.3333333333333333,
             "#9c179e"
            ],
            [
             0.4444444444444444,
             "#bd3786"
            ],
            [
             0.5555555555555556,
             "#d8576b"
            ],
            [
             0.6666666666666666,
             "#ed7953"
            ],
            [
             0.7777777777777778,
             "#fb9f3a"
            ],
            [
             0.8888888888888888,
             "#fdca26"
            ],
            [
             1,
             "#f0f921"
            ]
           ],
           "sequentialminus": [
            [
             0,
             "#0d0887"
            ],
            [
             0.1111111111111111,
             "#46039f"
            ],
            [
             0.2222222222222222,
             "#7201a8"
            ],
            [
             0.3333333333333333,
             "#9c179e"
            ],
            [
             0.4444444444444444,
             "#bd3786"
            ],
            [
             0.5555555555555556,
             "#d8576b"
            ],
            [
             0.6666666666666666,
             "#ed7953"
            ],
            [
             0.7777777777777778,
             "#fb9f3a"
            ],
            [
             0.8888888888888888,
             "#fdca26"
            ],
            [
             1,
             "#f0f921"
            ]
           ]
          },
          "colorway": [
           "#636efa",
           "#EF553B",
           "#00cc96",
           "#ab63fa",
           "#FFA15A",
           "#19d3f3",
           "#FF6692",
           "#B6E880",
           "#FF97FF",
           "#FECB52"
          ],
          "font": {
           "color": "#2a3f5f"
          },
          "geo": {
           "bgcolor": "white",
           "lakecolor": "white",
           "landcolor": "#E5ECF6",
           "showlakes": true,
           "showland": true,
           "subunitcolor": "white"
          },
          "hoverlabel": {
           "align": "left"
          },
          "hovermode": "closest",
          "mapbox": {
           "style": "light"
          },
          "paper_bgcolor": "white",
          "plot_bgcolor": "#E5ECF6",
          "polar": {
           "angularaxis": {
            "gridcolor": "white",
            "linecolor": "white",
            "ticks": ""
           },
           "bgcolor": "#E5ECF6",
           "radialaxis": {
            "gridcolor": "white",
            "linecolor": "white",
            "ticks": ""
           }
          },
          "scene": {
           "xaxis": {
            "backgroundcolor": "#E5ECF6",
            "gridcolor": "white",
            "gridwidth": 2,
            "linecolor": "white",
            "showbackground": true,
            "ticks": "",
            "zerolinecolor": "white"
           },
           "yaxis": {
            "backgroundcolor": "#E5ECF6",
            "gridcolor": "white",
            "gridwidth": 2,
            "linecolor": "white",
            "showbackground": true,
            "ticks": "",
            "zerolinecolor": "white"
           },
           "zaxis": {
            "backgroundcolor": "#E5ECF6",
            "gridcolor": "white",
            "gridwidth": 2,
            "linecolor": "white",
            "showbackground": true,
            "ticks": "",
            "zerolinecolor": "white"
           }
          },
          "shapedefaults": {
           "line": {
            "color": "#2a3f5f"
           }
          },
          "ternary": {
           "aaxis": {
            "gridcolor": "white",
            "linecolor": "white",
            "ticks": ""
           },
           "baxis": {
            "gridcolor": "white",
            "linecolor": "white",
            "ticks": ""
           },
           "bgcolor": "#E5ECF6",
           "caxis": {
            "gridcolor": "white",
            "linecolor": "white",
            "ticks": ""
           }
          },
          "title": {
           "x": 0.05
          },
          "xaxis": {
           "automargin": true,
           "gridcolor": "white",
           "linecolor": "white",
           "ticks": "",
           "title": {
            "standoff": 15
           },
           "zerolinecolor": "white",
           "zerolinewidth": 2
          },
          "yaxis": {
           "automargin": true,
           "gridcolor": "white",
           "linecolor": "white",
           "ticks": "",
           "title": {
            "standoff": 15
           },
           "zerolinecolor": "white",
           "zerolinewidth": 2
          }
         }
        },
        "title": {
         "text": "Accidents Map",
         "x": 0.5
        }
       }
      }
     },
     "metadata": {},
     "output_type": "display_data"
    },
    {
     "data": {
      "image/png": "[encoded data removed]",
      "text/plain": [
       "<Figure size 1000x600 with 1 Axes>"
      ]
     },
     "metadata": {},
     "output_type": "display_data"
    },
    {
     "name": "stdout",
     "output_type": "stream",
     "text": [
      "Accidents with fatalities rate: 0.00%\n"
     ]
    }
   ],
   "source": [
    "\n",
    "# Create filter widgets\n",
    "alcaldia_selector = widgets.Dropdown(options=sorted(df['alcaldia'].unique()), description='Alcaldía:')\n",
    "event_types = ['All'] + sorted(df['tipo_evento'].unique())\n",
    "event_type_selector = widgets.Dropdown(options=event_types, description='Event Type:')\n",
    "day_selector = widgets.Dropdown(options=sorted(df['dia'].unique()), description='Day:')\n",
    "metrics = ['Total number of accidents', 'Accidents with injuries rate', 'Accidents with fatalities rate', 'Average number of injured and deceased']\n",
    "metric_selector = widgets.Dropdown(options=metrics, description='Metric:')\n",
    "\n",
    "alcaldia_selector.observe(update_charts, names='value')\n",
    "event_type_selector.observe(update_charts, names='value')\n",
    "day_selector.observe(update_charts, names='value')\n",
    "metric_selector.observe(update_charts, names='value')\n",
    "\n",
    "\n",
    "display(alcaldia_selector, event_type_selector, day_selector, metric_selector)\n",
    "update_charts(None)\n"
   ]
  },
  {
   "cell_type": "code",
   "execution_count": null,
   "metadata": {},
   "outputs": [],
   "source": []
  }
 ],
 "metadata": {
  "kernelspec": {
   "display_name": "Python 3",
   "language": "python",
   "name": "python3"
  },
  "language_info": {
   "codemirror_mode": {
    "name": "ipython",
    "version": 3
   },
   "file_extension": ".py",
   "mimetype": "text/x-python",
   "name": "python",
   "nbconvert_exporter": "python",
   "pygments_lexer": "ipython3",
   "version": "3.12.2"
  }
 },
 "nbformat": 4,
 "nbformat_minor": 2
}
