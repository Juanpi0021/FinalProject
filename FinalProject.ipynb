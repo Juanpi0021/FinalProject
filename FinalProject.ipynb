{
 "cells": [
  {
   "cell_type": "code",
   "execution_count": 25,
   "metadata": {},
   "outputs": [],
   "source": [
    "import pandas as pd\n",
    "import numpy as np\n"
   ]
  },
  {
   "cell_type": "code",
   "execution_count": 26,
   "metadata": {},
   "outputs": [
    {
     "name": "stdout",
     "output_type": "stream",
     "text": [
      "        Año        Mes          Estado              Municipio Dentro de Norma  \\\n",
      "0      2016      Enero  AGUASCALIENTES         AGUASCALIENTES             296   \n",
      "1      2016      Enero  AGUASCALIENTES               ASIENTOS              53   \n",
      "2      2016      Enero  AGUASCALIENTES               CALVILLO             120   \n",
      "3      2016      Enero  AGUASCALIENTES                  COSIO              16   \n",
      "4      2016      Enero  AGUASCALIENTES               EL LLANO              35   \n",
      "...     ...        ...             ...                    ...             ...   \n",
      "21520  2016  Diciembre       ZACATECAS           VILLA GARCIA               8   \n",
      "21521  2016  Diciembre       ZACATECAS  VILLA GONZALEZ ORTEGA              11   \n",
      "21522  2016  Diciembre       ZACATECAS          VILLA HIDALGO               6   \n",
      "21523  2016  Diciembre       ZACATECAS             VILLANUEVA              15   \n",
      "21524  2016  Diciembre       ZACATECAS              ZACATECAS              30   \n",
      "\n",
      "      Total de Determinaciones  % de Determinaciones dentro de norma  \n",
      "0                          298                                 99.33  \n",
      "1                           53                                100.00  \n",
      "2                          121                                 99.17  \n",
      "3                           16                                100.00  \n",
      "4                           39                                 89.74  \n",
      "...                        ...                                   ...  \n",
      "21520                       11                                 72.73  \n",
      "21521                       12                                 91.67  \n",
      "21522                        6                                100.00  \n",
      "21523                       15                                100.00  \n",
      "21524                       30                                100.00  \n",
      "\n",
      "[21525 rows x 7 columns]\n"
     ]
    }
   ],
   "source": [
    "archivo = 'Agua_Calidad.csv'  # Asegúrate de que el archivo esté en el mismo directorio que el script o proporciona la ruta completa\n",
    "columnas = [\n",
    "    'Año',\n",
    "    'Mes',\n",
    "    'Estado',\n",
    "    'Municipio',\n",
    "    'Dentro de Norma',\n",
    "    'Total de Determinaciones',\n",
    "    '% de Determinaciones dentro de norma'\n",
    "]\n",
    "\n",
    "# Leer el archivo y asignar nombres de columnas \n",
    "dataset = pd.read_csv(archivo, names=columnas, header=0, encoding='latin1')  \n",
    "\n",
    "# Mostrar las primeras filas del dataset\n",
    "print(dataset)\n"
   ]
  }
 ],
 "metadata": {
  "kernelspec": {
   "display_name": "Python 3",
   "language": "python",
   "name": "python3"
  },
  "language_info": {
   "codemirror_mode": {
    "name": "ipython",
    "version": 3
   },
   "file_extension": ".py",
   "mimetype": "text/x-python",
   "name": "python",
   "nbconvert_exporter": "python",
   "pygments_lexer": "ipython3",
   "version": "3.12.6"
  }
 },
 "nbformat": 4,
 "nbformat_minor": 2
}
