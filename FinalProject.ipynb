{
 "cells": [
  {
   "cell_type": "markdown",
   "metadata": {},
   "source": [
    "## Modules"
   ]
  },
  {
   "cell_type": "code",
   "execution_count": 56,
   "metadata": {},
   "outputs": [],
   "source": [
    "import pandas as pd\n",
    "import ipywidgets as widgets\n",
    "import matplotlib.pyplot as plt\n",
    "import plotly.express as px\n",
    "from IPython.display import display, clear_output\n",
    "import seaborn as sns"
   ]
  },
  {
   "cell_type": "markdown",
   "metadata": {},
   "source": [
    "## Read CSV"
   ]
  },
  {
   "cell_type": "code",
   "execution_count": 57,
   "metadata": {},
   "outputs": [
    {
     "name": "stderr",
     "output_type": "stream",
     "text": [
      "C:\\Users\\juanp\\AppData\\Local\\Temp\\ipykernel_7376\\171959991.py:3: DtypeWarning:\n",
      "\n",
      "Columns (22) have mixed types. Specify dtype option on import or set low_memory=False.\n",
      "\n"
     ]
    }
   ],
   "source": [
    "# 1. Load the CSV file with a different encoding\n",
    "csv_file = 'Accidentes.csv'  # Change this path to the actual location of your file\n",
    "df = pd.read_csv(csv_file, encoding='ISO-8859-1')  # Or use encoding='latin1'"
   ]
  },
  {
   "cell_type": "markdown",
   "metadata": {},
   "source": [
    "## Widgets"
   ]
  },
  {
   "cell_type": "code",
   "execution_count": 58,
   "metadata": {},
   "outputs": [],
   "source": [
    "# 2. Create filter widgets (sorted alphabetically)\n",
    "alcaldia_selector = widgets.Dropdown(options=sorted(df['alcaldia'].unique()), description='Alcaldía:')\n",
    "\n",
    "# Add the \"All\" option in the event type\n",
    "event_types = ['All'] + sorted(df['tipo_evento'].unique())\n",
    "event_type_selector = widgets.Dropdown(options=event_types, description='Event Type:')\n",
    "\n",
    "# List of valid days\n",
    "valid_days = ['Lunes', 'Martes', 'Miércoles', 'Jueves', 'Viernes', 'Sábado', 'Domingo']\n",
    "\n",
    "df['dia'] = df['dia'].apply(lambda x: x.strip() if isinstance(x, str) else x) \n",
    "df = df[df['dia'].isin(valid_days)] \n",
    "day_selector = widgets.Dropdown(options=sorted(df['dia'].unique()), description='Day:')\n",
    "\n",
    "# Widget to select the metric\n",
    "metrics = ['Total number of accidents', 'Accidents with injuries rate', 'Accidents with fatalities rate', 'Average number of injured and deceased']\n",
    "metric_selector = widgets.Dropdown(options=metrics, description='Metric:')"
   ]
  },
  {
   "cell_type": "markdown",
   "metadata": {},
   "source": [
    "## Functions to plot"
   ]
  },
  {
   "cell_type": "code",
   "execution_count": 59,
   "metadata": {},
   "outputs": [],
   "source": [
    "# 4. Function to plot the number of accidents by event type\n",
    "def plot_accidents_by_type(filtered_df):\n",
    "    if filtered_df.empty:\n",
    "        print(\"No data available to display the accidents by event type chart.\")\n",
    "        return\n",
    "    \n",
    "    plt.figure(figsize=(10, 6))\n",
    "    filtered_df['tipo_evento'].value_counts().plot(kind='bar', color='skyblue')\n",
    "    \n",
    "    plt.title('Number of Accidents by Event Type')\n",
    "    plt.ylabel('Number of Accidents')\n",
    "    plt.xlabel('Event Type')\n",
    "    plt.show()\n",
    "    \n",
    "# 5. Function to display an interactive map of accidents\n",
    "def plot_map(filtered_df):\n",
    "    if filtered_df.empty:\n",
    "        print(\"No data available to display the map.\")\n",
    "        return\n",
    "    \n",
    "    fig = px.scatter_mapbox(filtered_df, lat='latitud', lon='longitud', \n",
    "                            color='tipo_evento', size='personas_lesionadas',\n",
    "                            hover_name='alcaldia', hover_data=['colonia', 'tipo_evento'],\n",
    "                            zoom=10, height=500)\n",
    "    \n",
    "    fig.update_layout(mapbox_style=\"open-street-map\")\n",
    "    fig.update_layout(title=\"Accidents Map\", title_x=0.5)\n",
    "    \n",
    "    fig.show()\n",
    "\n",
    "# 6. Function to show the number of accidents with injuries and fatalities\n",
    "def plot_accidents_with_injuries_fatalities(filtered_df):\n",
    "    if filtered_df.empty:\n",
    "        print(\"No data available to display the accidents with injuries and fatalities chart.\")\n",
    "        return\n",
    "    \n",
    "    plt.figure(figsize=(10, 6))\n",
    "    filtered_df[['personas_lesionadas', 'personas_fallecidas']].sum().plot(kind='bar', color=['orange', 'red'])\n",
    "    \n",
    "    plt.title('Accidents with Injuries and Fatalities')\n",
    "    plt.ylabel('Number')\n",
    "    plt.xticks([0, 1], ['Injured', 'Deceased'], rotation=0)\n",
    "    plt.show()\n",
    "\n",
    "# 7. Function to display accidents by day of the week\n",
    "def plot_accidents_by_day(filtered_df):\n",
    "    if filtered_df.empty:\n",
    "        print(\"No data available to display the accidents by day chart.\")\n",
    "        return\n",
    "    \n",
    "    plt.figure(figsize=(10, 6))\n",
    "    filtered_df['dia'].value_counts().reindex(valid_days).plot(kind='bar', color='purple')\n",
    "    \n",
    "    plt.title('Total Number of Accidents by Day of the Week')\n",
    "    plt.ylabel('Number of Accidents')\n",
    "    plt.xlabel('Day of the Week')\n",
    "    plt.xticks(rotation=45)\n",
    "    plt.show()\n",
    "\n"
   ]
  },
  {
   "cell_type": "code",
   "execution_count": null,
   "metadata": {},
   "outputs": [],
   "source": []
  }
 ],
 "metadata": {
  "kernelspec": {
   "display_name": "Python 3",
   "language": "python",
   "name": "python3"
  },
  "language_info": {
   "codemirror_mode": {
    "name": "ipython",
    "version": 3
   },
   "file_extension": ".py",
   "mimetype": "text/x-python",
   "name": "python",
   "nbconvert_exporter": "python",
   "pygments_lexer": "ipython3",
   "version": "3.12.2"
  }
 },
 "nbformat": 4,
 "nbformat_minor": 2
}
