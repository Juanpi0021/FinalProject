{
 "cells": [
  {
   "cell_type": "markdown",
   "metadata": {},
   "source": [
    "## Modules"
   ]
  },
  {
   "cell_type": "code",
   "execution_count": 46,
   "metadata": {},
   "outputs": [],
   "source": [
    "import pandas as pd\n",
    "import ipywidgets as widgets\n",
    "import matplotlib.pyplot as plt\n",
    "import plotly.express as px\n",
    "from IPython.display import display, clear_output\n",
    "import seaborn as sns"
   ]
  },
  {
   "cell_type": "markdown",
   "metadata": {},
   "source": [
    "## Read CSV"
   ]
  },
  {
   "cell_type": "code",
   "execution_count": null,
   "metadata": {},
   "outputs": [],
   "source": [
    "# 1. Load the CSV file with a different encoding\n",
    "csv_file = 'Accidentes.csv'  # Change this path to the actual location of your file\n",
    "df = pd.read_csv(csv_file, encoding='ISO-8859-1')  # Or use encoding='latin1'"
   ]
  },
  {
   "cell_type": "markdown",
   "metadata": {},
   "source": [
    "## Widgets"
   ]
  },
  {
   "cell_type": "code",
   "execution_count": 47,
   "metadata": {},
   "outputs": [],
   "source": [
    "# 2. Create filter widgets (sorted alphabetically)\n",
    "alcaldia_selector = widgets.Dropdown(options=sorted(df['alcaldia'].unique()), description='Alcaldía:')\n",
    "\n",
    "# Add the \"All\" option in the event type\n",
    "event_types = ['All'] + sorted(df['tipo_evento'].unique())\n",
    "event_type_selector = widgets.Dropdown(options=event_types, description='Event Type:')\n",
    "\n",
    "# List of valid days\n",
    "valid_days = ['Monday', 'Tuesday', 'Wednesday', 'Thursday', 'Friday', 'Saturday', 'Sunday']\n",
    "\n",
    "df['dia'] = df['dia'].apply(lambda x: x.strip() if isinstance(x, str) else x) \n",
    "df = df[df['dia'].isin(valid_days)] \n",
    "day_selector = widgets.Dropdown(options=sorted(df['dia'].unique()), description='Day:')\n",
    "\n",
    "# Widget to select the metric\n",
    "metrics = ['Total number of accidents', 'Accidents with injuries rate', 'Accidents with fatalities rate', 'Average number of injured and deceased']\n",
    "metric_selector = widgets.Dropdown(options=metrics, description='Metric:')"
   ]
  },
  {
   "cell_type": "code",
   "execution_count": null,
   "metadata": {},
   "outputs": [],
   "source": []
  }
 ],
 "metadata": {
  "kernelspec": {
   "display_name": "Python 3",
   "language": "python",
   "name": "python3"
  },
  "language_info": {
   "codemirror_mode": {
    "name": "ipython",
    "version": 3
   },
   "file_extension": ".py",
   "mimetype": "text/x-python",
   "name": "python",
   "nbconvert_exporter": "python",
   "pygments_lexer": "ipython3",
   "version": "3.12.2"
  }
 },
 "nbformat": 4,
 "nbformat_minor": 2
}
